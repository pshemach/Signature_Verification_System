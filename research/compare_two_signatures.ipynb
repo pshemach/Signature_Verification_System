{
 "cells": [
  {
   "cell_type": "code",
   "execution_count": 21,
   "metadata": {},
   "outputs": [],
   "source": [
    "import os\n",
    "import torch\n",
    "from skimage.io import imread\n",
    "from skimage import img_as_ubyte\n",
    "from sigVrfy.utils import preprocess_signature\n",
    "from sigVrfy.models.signet import SigNet\n",
    "from PIL import Image"
   ]
  },
  {
   "cell_type": "code",
   "execution_count": 15,
   "metadata": {},
   "outputs": [],
   "source": [
    "device = torch.device(\"cuda\" if torch.cuda.is_available() else \"cpu\")"
   ]
  },
  {
   "cell_type": "code",
   "execution_count": 16,
   "metadata": {},
   "outputs": [],
   "source": [
    "SIG_MODEL_PATH = '../data/pretrain_models/signet.pth'"
   ]
  },
  {
   "cell_type": "code",
   "execution_count": 17,
   "metadata": {},
   "outputs": [
    {
     "name": "stderr",
     "output_type": "stream",
     "text": [
      "C:\\Users\\PC\\AppData\\Local\\Temp\\ipykernel_9356\\2478507757.py:1: FutureWarning: You are using `torch.load` with `weights_only=False` (the current default value), which uses the default pickle module implicitly. It is possible to construct malicious pickle data which will execute arbitrary code during unpickling (See https://github.com/pytorch/pytorch/blob/main/SECURITY.md#untrusted-models for more details). In a future release, the default value for `weights_only` will be flipped to `True`. This limits the functions that could be executed during unpickling. Arbitrary objects will no longer be allowed to be loaded via this mode unless they are explicitly allowlisted by the user via `torch.serialization.add_safe_globals`. We recommend you start setting `weights_only=True` for any use case where you don't have full control of the loaded file. Please open an issue on GitHub for any issues related to this experimental feature.\n",
      "  state_dict, _, _ = torch.load(SIG_MODEL_PATH)\n"
     ]
    },
    {
     "data": {
      "text/plain": [
       "<All keys matched successfully>"
      ]
     },
     "execution_count": 17,
     "metadata": {},
     "output_type": "execute_result"
    }
   ],
   "source": [
    "state_dict, _, _ = torch.load(SIG_MODEL_PATH)\n",
    "base_model = SigNet().to(device).eval()\n",
    "base_model.load_state_dict(state_dict)"
   ]
  },
  {
   "cell_type": "code",
   "execution_count": 34,
   "metadata": {},
   "outputs": [],
   "source": [
    "def load_signature(path):\n",
    "    print(path)\n",
    "    tensor = img_as_ubyte(imread(path, as_gray=True))\n",
    "    print(tensor.shape)\n",
    "    return tensor"
   ]
  },
  {
   "cell_type": "code",
   "execution_count": 37,
   "metadata": {},
   "outputs": [],
   "source": [
    "def compare_signatures(images_path, canvas_size=(2000, 2000)):\n",
    "    user_signs = [load_signature(path) for path in images_path]\n",
    "    processed_user_sigs = torch.tensor(\n",
    "        [preprocess_signature(sig, canvas_size) for sig in user_signs]\n",
    "    )\n",
    "    processed_user_sigs_scaled = (\n",
    "        processed_user_sigs.view(-1, 1, 150, 220).float().div(255)\n",
    "    )\n",
    "    with torch.no_grad():\n",
    "        user_features = base_model(processed_user_sigs_scaled.to(device))\n",
    "\n",
    "    distance = torch.norm(user_features[0] - user_features[1])\n",
    "    print(f\"Euclidean distance between signatures from the same user: {distance}\")\n",
    "\n",
    "    if distance < 15.5:\n",
    "        return \"Original\"\n",
    "    else:\n",
    "        return \"Forged\""
   ]
  },
  {
   "cell_type": "code",
   "execution_count": 38,
   "metadata": {},
   "outputs": [
    {
     "name": "stdout",
     "output_type": "stream",
     "text": [
      "../data/test_images/a1.png\n",
      "(709, 1193)\n",
      "../data/test_images/c-1.jpg\n",
      "(968, 1450)\n",
      "Euclidean distance between signatures from the same user: 29.633695602416992\n"
     ]
    },
    {
     "data": {
      "text/plain": [
       "'Forged'"
      ]
     },
     "execution_count": 38,
     "metadata": {},
     "output_type": "execute_result"
    }
   ],
   "source": [
    "compare_signatures(['../data/test_images/a1.png', '../data/test_images/c-1.jpg'])"
   ]
  },
  {
   "cell_type": "code",
   "execution_count": null,
   "metadata": {},
   "outputs": [],
   "source": []
  }
 ],
 "metadata": {
  "kernelspec": {
   "display_name": ".venv",
   "language": "python",
   "name": "python3"
  },
  "language_info": {
   "codemirror_mode": {
    "name": "ipython",
    "version": 3
   },
   "file_extension": ".py",
   "mimetype": "text/x-python",
   "name": "python",
   "nbconvert_exporter": "python",
   "pygments_lexer": "ipython3",
   "version": "3.11.5"
  }
 },
 "nbformat": 4,
 "nbformat_minor": 2
}
